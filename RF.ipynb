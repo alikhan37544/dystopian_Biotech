{
 "cells": [
  {
   "cell_type": "code",
   "execution_count": 20,
   "metadata": {},
   "outputs": [],
   "source": [
    "import pandas as pd\n",
    "import numpy as np\n",
    "import matplotlib.pyplot as plt\n",
    "import seaborn as sns\n"
   ]
  },
  {
   "cell_type": "code",
   "execution_count": 21,
   "metadata": {},
   "outputs": [],
   "source": [
    "def evaluate_model(classifier, X_train, X_test, y_train, y_test, cv=5):\n",
    "    import numpy as np\n",
    "    import matplotlib.pyplot as plt\n",
    "    import seaborn as sns\n",
    "    from sklearn.metrics import accuracy_score, precision_score, recall_score, f1_score\n",
    "    from sklearn.metrics import roc_auc_score, average_precision_score, matthews_corrcoef\n",
    "    from sklearn.metrics import log_loss, balanced_accuracy_score, confusion_matrix, classification_report\n",
    "    from sklearn.model_selection import learning_curve\n",
    "    from sklearn.metrics import roc_curve, auc\n",
    "    # Train the model\n",
    "    classifier.fit(X_train, y_train)\n",
    "    \n",
    "    # Make predictions\n",
    "    y_pred = classifier.predict(X_test)\n",
    "    \n",
    "    # Calculate and print metrics\n",
    "    accuracy = accuracy_score(y_test, y_pred)\n",
    "    precision = precision_score(y_test, y_pred)\n",
    "    recall = recall_score(y_test, y_pred)\n",
    "    f1 = f1_score(y_test, y_pred)\n",
    "    roc_auc = roc_auc_score(y_test, y_pred)\n",
    "    average_precision = average_precision_score(y_test, y_pred)\n",
    "    mcc = matthews_corrcoef(y_test, y_pred)\n",
    "    logloss = log_loss(y_test, y_pred)\n",
    "    balanced_acc = balanced_accuracy_score(y_test, y_pred)\n",
    "    conf_matrix = confusion_matrix(y_test, y_pred)\n",
    "    class_report = classification_report(y_test, y_pred)\n",
    "    \n",
    "    print(\"Accuracy:\", accuracy)\n",
    "    print(\"Precision:\", precision)\n",
    "    print(\"Recall:\", recall)\n",
    "    print(\"F1-Score:\", f1)\n",
    "    print(\"AUC-ROC:\", roc_auc)\n",
    "    print(\"AUC-PR (Average Precision):\", average_precision)\n",
    "    print(\"Matthew's Correlation Coefficient (MCC):\", mcc)\n",
    "    print(\"Log Loss:\", logloss)\n",
    "    print(\"Balanced Accuracy:\", balanced_acc)\n",
    "    print(\"Confusion Matrix:\")\n",
    "    print(conf_matrix)\n",
    "    print(\"Classification Report:\")\n",
    "    print(class_report)\n",
    "    \n",
    "    # Plot confusion matrix\n",
    "    plt.figure(figsize=(8, 6))\n",
    "    sns.heatmap(conf_matrix, annot=True, fmt='d', cmap='Blues')\n",
    "    plt.title(\"Confusion Matrix\")\n",
    "    plt.show()\n",
    "\n",
    "    # Plot ROC curve\n",
    "    fpr, tpr, thresholds = roc_curve(y_test, y_pred)\n",
    "    roc_auc = auc(fpr, tpr)\n",
    "    plt.figure(figsize=(8, 6))\n",
    "    plt.plot(fpr, tpr, color='darkorange', lw=2, label='ROC curve (area = %0.2f)' % roc_auc)\n",
    "    plt.plot([0, 1], [0, 1], color='navy', lw=2, linestyle='--')\n",
    "    plt.title(\"ROC Curve\")\n",
    "    plt.xlabel(\"False Positive Rate\")\n",
    "    plt.ylabel(\"True Positive Rate\")\n",
    "    plt.legend(loc=\"lower right\")\n",
    "    plt.show()\n",
    "\n",
    "    # Plot learning curve\n",
    "    train_sizes, train_scores, test_scores = learning_curve(classifier, X_train, y_train, cv=cv, train_sizes=np.linspace(0.1, 1.0, 5), scoring='accuracy', n_jobs=-1)\n",
    "    train_scores_mean = np.mean(train_scores, axis=1)\n",
    "    train_scores_std = np.std(train_scores, axis=1)\n",
    "    test_scores_mean = np.mean(test_scores, axis=1)\n",
    "    test_scores_std = np.std(test_scores, axis=1)\n",
    "    \n",
    "    plt.figure(figsize=(8, 6))\n",
    "    plt.title(\"Learning Curve\")\n",
    "    plt.xlabel(\"Training Examples\")\n",
    "    plt.ylabel(\"Score\")\n",
    "    plt.grid()\n",
    "    plt.fill_between(train_sizes, train_scores_mean - train_scores_std, train_scores_mean + train_scores_std, alpha=0.1, color=\"r\")\n",
    "    plt.fill_between(train_sizes, test_scores_mean - test_scores_std, test_scores_mean + test_scores_std, alpha=0.1, color=\"g\")\n",
    "    plt.plot(train_sizes, train_scores_mean, 'o-', color=\"r\", label=\"Training Score\")\n",
    "    plt.plot(train_sizes, test_scores_mean, 'o-', color=\"g\", label=\"Cross-validation Score\")\n",
    "    plt.legend(loc=\"best\")\n",
    "    plt.show()\n",
    "\n",
    "# Example usage:\n",
    "# evaluate_model(perceptron, X_train, X_test, y_train, y_test)"
   ]
  },
  {
   "cell_type": "code",
   "execution_count": 22,
   "metadata": {},
   "outputs": [
    {
     "name": "stdout",
     "output_type": "stream",
     "text": [
      "<class 'pandas.core.frame.DataFrame'>\n",
      "RangeIndex: 9602 entries, 0 to 9601\n",
      "Columns: 1615 entries, name to mZagreb2\n",
      "dtypes: float64(1279), int64(335), object(1)\n",
      "memory usage: 118.3+ MB\n"
     ]
    }
   ],
   "source": [
    "train_df = pd.read_csv(\"train10k.csv\")\n",
    "train_df.info()"
   ]
  },
  {
   "cell_type": "code",
   "execution_count": 23,
   "metadata": {},
   "outputs": [
    {
     "data": {
      "text/plain": [
       "(9602, 1615)"
      ]
     },
     "execution_count": 23,
     "metadata": {},
     "output_type": "execute_result"
    }
   ],
   "source": [
    "train_df.shape"
   ]
  },
  {
   "cell_type": "code",
   "execution_count": 24,
   "metadata": {},
   "outputs": [
    {
     "data": {
      "text/html": [
       "<div>\n",
       "<style scoped>\n",
       "    .dataframe tbody tr th:only-of-type {\n",
       "        vertical-align: middle;\n",
       "    }\n",
       "\n",
       "    .dataframe tbody tr th {\n",
       "        vertical-align: top;\n",
       "    }\n",
       "\n",
       "    .dataframe thead th {\n",
       "        text-align: right;\n",
       "    }\n",
       "</style>\n",
       "<table border=\"1\" class=\"dataframe\">\n",
       "  <thead>\n",
       "    <tr style=\"text-align: right;\">\n",
       "      <th></th>\n",
       "      <th>name</th>\n",
       "      <th>cls</th>\n",
       "      <th>ABC</th>\n",
       "      <th>ABCGG</th>\n",
       "      <th>nAcid</th>\n",
       "      <th>nBase</th>\n",
       "      <th>SpAbs_A</th>\n",
       "      <th>SpMax_A</th>\n",
       "      <th>SpDiam_A</th>\n",
       "      <th>SpAD_A</th>\n",
       "      <th>...</th>\n",
       "      <th>SRW10</th>\n",
       "      <th>TSRW10</th>\n",
       "      <th>MW</th>\n",
       "      <th>AMW</th>\n",
       "      <th>WPath</th>\n",
       "      <th>WPol</th>\n",
       "      <th>Zagreb1</th>\n",
       "      <th>Zagreb2</th>\n",
       "      <th>mZagreb1</th>\n",
       "      <th>mZagreb2</th>\n",
       "    </tr>\n",
       "  </thead>\n",
       "  <tbody>\n",
       "    <tr>\n",
       "      <th>0</th>\n",
       "      <td>C1=CC=C(C=C1)N(C2=CC=CC=C2)C(=O)N3C=CN=N3</td>\n",
       "      <td>1</td>\n",
       "      <td>NaN</td>\n",
       "      <td>NaN</td>\n",
       "      <td>0</td>\n",
       "      <td>0</td>\n",
       "      <td>26.738640</td>\n",
       "      <td>2.408266</td>\n",
       "      <td>4.798534</td>\n",
       "      <td>26.738640</td>\n",
       "      <td>...</td>\n",
       "      <td>9.775938</td>\n",
       "      <td>66.510483</td>\n",
       "      <td>264.101111</td>\n",
       "      <td>8.253160</td>\n",
       "      <td>764.0</td>\n",
       "      <td>28</td>\n",
       "      <td>102</td>\n",
       "      <td>119</td>\n",
       "      <td>5.055556</td>\n",
       "      <td>4.527778</td>\n",
       "    </tr>\n",
       "    <tr>\n",
       "      <th>1</th>\n",
       "      <td>C1COCCN1C(=O)N2C=CN=N2</td>\n",
       "      <td>1</td>\n",
       "      <td>NaN</td>\n",
       "      <td>NaN</td>\n",
       "      <td>0</td>\n",
       "      <td>0</td>\n",
       "      <td>17.305419</td>\n",
       "      <td>2.317107</td>\n",
       "      <td>4.585026</td>\n",
       "      <td>17.305419</td>\n",
       "      <td>...</td>\n",
       "      <td>9.184920</td>\n",
       "      <td>56.970810</td>\n",
       "      <td>182.080376</td>\n",
       "      <td>7.916538</td>\n",
       "      <td>247.0</td>\n",
       "      <td>15</td>\n",
       "      <td>64</td>\n",
       "      <td>73</td>\n",
       "      <td>3.583333</td>\n",
       "      <td>2.972222</td>\n",
       "    </tr>\n",
       "    <tr>\n",
       "      <th>2</th>\n",
       "      <td>C1CCN(C1)C(=O)N2N=CC(=N2)C3=CC=C(C=C3)C4=CC=CC=C4</td>\n",
       "      <td>1</td>\n",
       "      <td>NaN</td>\n",
       "      <td>NaN</td>\n",
       "      <td>0</td>\n",
       "      <td>0</td>\n",
       "      <td>32.588813</td>\n",
       "      <td>2.408273</td>\n",
       "      <td>4.741441</td>\n",
       "      <td>32.588813</td>\n",
       "      <td>...</td>\n",
       "      <td>10.003559</td>\n",
       "      <td>73.928484</td>\n",
       "      <td>318.148061</td>\n",
       "      <td>7.574954</td>\n",
       "      <td>1509.0</td>\n",
       "      <td>34</td>\n",
       "      <td>128</td>\n",
       "      <td>151</td>\n",
       "      <td>5.777778</td>\n",
       "      <td>5.277778</td>\n",
       "    </tr>\n",
       "    <tr>\n",
       "      <th>3</th>\n",
       "      <td>COC1=CC2=C(C=C1)C=C(C=C2)C3=NN(N=C3)C(=O)N4CCCC4</td>\n",
       "      <td>1</td>\n",
       "      <td>NaN</td>\n",
       "      <td>NaN</td>\n",
       "      <td>0</td>\n",
       "      <td>0</td>\n",
       "      <td>32.315833</td>\n",
       "      <td>2.434854</td>\n",
       "      <td>4.827387</td>\n",
       "      <td>32.315833</td>\n",
       "      <td>...</td>\n",
       "      <td>10.098849</td>\n",
       "      <td>74.146649</td>\n",
       "      <td>322.142976</td>\n",
       "      <td>7.670071</td>\n",
       "      <td>1453.0</td>\n",
       "      <td>36</td>\n",
       "      <td>130</td>\n",
       "      <td>155</td>\n",
       "      <td>6.388889</td>\n",
       "      <td>5.277778</td>\n",
       "    </tr>\n",
       "    <tr>\n",
       "      <th>4</th>\n",
       "      <td>CC(C)(CCC1(C(CCC2=C1N=C3C(=C2OC)C=CO3)O)OC)O</td>\n",
       "      <td>1</td>\n",
       "      <td>NaN</td>\n",
       "      <td>NaN</td>\n",
       "      <td>0</td>\n",
       "      <td>0</td>\n",
       "      <td>29.954829</td>\n",
       "      <td>2.574554</td>\n",
       "      <td>5.129759</td>\n",
       "      <td>29.954829</td>\n",
       "      <td>...</td>\n",
       "      <td>10.424749</td>\n",
       "      <td>72.979657</td>\n",
       "      <td>335.173273</td>\n",
       "      <td>6.840271</td>\n",
       "      <td>1176.0</td>\n",
       "      <td>44</td>\n",
       "      <td>132</td>\n",
       "      <td>161</td>\n",
       "      <td>9.291667</td>\n",
       "      <td>5.236111</td>\n",
       "    </tr>\n",
       "  </tbody>\n",
       "</table>\n",
       "<p>5 rows × 1615 columns</p>\n",
       "</div>"
      ],
      "text/plain": [
       "                                                name  cls  ABC  ABCGG  nAcid  \\\n",
       "0          C1=CC=C(C=C1)N(C2=CC=CC=C2)C(=O)N3C=CN=N3    1  NaN    NaN      0   \n",
       "1                             C1COCCN1C(=O)N2C=CN=N2    1  NaN    NaN      0   \n",
       "2  C1CCN(C1)C(=O)N2N=CC(=N2)C3=CC=C(C=C3)C4=CC=CC=C4    1  NaN    NaN      0   \n",
       "3   COC1=CC2=C(C=C1)C=C(C=C2)C3=NN(N=C3)C(=O)N4CCCC4    1  NaN    NaN      0   \n",
       "4       CC(C)(CCC1(C(CCC2=C1N=C3C(=C2OC)C=CO3)O)OC)O    1  NaN    NaN      0   \n",
       "\n",
       "   nBase    SpAbs_A   SpMax_A  SpDiam_A     SpAD_A  ...      SRW10     TSRW10  \\\n",
       "0      0  26.738640  2.408266  4.798534  26.738640  ...   9.775938  66.510483   \n",
       "1      0  17.305419  2.317107  4.585026  17.305419  ...   9.184920  56.970810   \n",
       "2      0  32.588813  2.408273  4.741441  32.588813  ...  10.003559  73.928484   \n",
       "3      0  32.315833  2.434854  4.827387  32.315833  ...  10.098849  74.146649   \n",
       "4      0  29.954829  2.574554  5.129759  29.954829  ...  10.424749  72.979657   \n",
       "\n",
       "           MW       AMW   WPath  WPol  Zagreb1  Zagreb2  mZagreb1  mZagreb2  \n",
       "0  264.101111  8.253160   764.0    28      102      119  5.055556  4.527778  \n",
       "1  182.080376  7.916538   247.0    15       64       73  3.583333  2.972222  \n",
       "2  318.148061  7.574954  1509.0    34      128      151  5.777778  5.277778  \n",
       "3  322.142976  7.670071  1453.0    36      130      155  6.388889  5.277778  \n",
       "4  335.173273  6.840271  1176.0    44      132      161  9.291667  5.236111  \n",
       "\n",
       "[5 rows x 1615 columns]"
      ]
     },
     "execution_count": 24,
     "metadata": {},
     "output_type": "execute_result"
    }
   ],
   "source": [
    "train_df.head()"
   ]
  },
  {
   "cell_type": "code",
   "execution_count": null,
   "metadata": {},
   "outputs": [],
   "source": []
  },
  {
   "cell_type": "markdown",
   "metadata": {},
   "source": [
    "filling NaN with zero"
   ]
  },
  {
   "cell_type": "code",
   "execution_count": 25,
   "metadata": {},
   "outputs": [],
   "source": [
    "train_df = train_df.fillna(0)"
   ]
  },
  {
   "cell_type": "markdown",
   "metadata": {},
   "source": [
    "removing 'name' column"
   ]
  },
  {
   "cell_type": "code",
   "execution_count": 26,
   "metadata": {},
   "outputs": [],
   "source": [
    "train_df = train_df.drop('name', axis=1)"
   ]
  },
  {
   "cell_type": "code",
   "execution_count": 27,
   "metadata": {},
   "outputs": [
    {
     "data": {
      "text/plain": [
       "cls         0\n",
       "ABC         0\n",
       "ABCGG       0\n",
       "nAcid       0\n",
       "nBase       0\n",
       "           ..\n",
       "WPol        0\n",
       "Zagreb1     0\n",
       "Zagreb2     0\n",
       "mZagreb1    0\n",
       "mZagreb2    0\n",
       "Length: 1614, dtype: int64"
      ]
     },
     "execution_count": 27,
     "metadata": {},
     "output_type": "execute_result"
    }
   ],
   "source": [
    "train_df.isna().sum()"
   ]
  },
  {
   "cell_type": "markdown",
   "metadata": {},
   "source": [
    " X_train: Features for training\n",
    " \n",
    " X_test: Features for testing\n",
    " \n",
    " y_train: Labels for training\n",
    " \n",
    " y_test: Labels for testing"
   ]
  },
  {
   "cell_type": "code",
   "execution_count": 28,
   "metadata": {},
   "outputs": [],
   "source": [
    "from sklearn.model_selection import train_test_split\n",
    "Y = train_df[['cls']].copy()\n",
    "X = train_df.drop(['cls'], axis=1)\n",
    "X_train, X_test, y_train, y_test = train_test_split(X, Y, test_size=0.2, random_state=42)\n"
   ]
  },
  {
   "cell_type": "markdown",
   "metadata": {},
   "source": [
    "### Normalizing"
   ]
  },
  {
   "cell_type": "code",
   "execution_count": 29,
   "metadata": {},
   "outputs": [],
   "source": [
    "from sklearn.preprocessing import MinMaxScaler\n",
    "\n",
    "# Create an instance of the Min-Max scaler\n",
    "scaler = MinMaxScaler()\n",
    "\n",
    "# Fit the scaler to your data and transform it\n",
    "X_train_normalized = scaler.fit_transform(X_train)\n",
    "X_test_normalized = scaler.fit_transform(X_test)\n"
   ]
  },
  {
   "cell_type": "code",
   "execution_count": null,
   "metadata": {},
   "outputs": [],
   "source": []
  },
  {
   "cell_type": "markdown",
   "metadata": {},
   "source": [
    "## RF Classifier"
   ]
  },
  {
   "cell_type": "code",
   "execution_count": 30,
   "metadata": {},
   "outputs": [],
   "source": [
    "from sklearn.ensemble import RandomForestClassifier"
   ]
  },
  {
   "cell_type": "code",
   "execution_count": 31,
   "metadata": {},
   "outputs": [],
   "source": [
    "model = RandomForestClassifier(n_estimators=100, max_depth=10, random_state=42)\n",
    "\n"
   ]
  },
  {
   "cell_type": "markdown",
   "metadata": {},
   "source": [
    "K-Folding"
   ]
  },
  {
   "cell_type": "code",
   "execution_count": 32,
   "metadata": {},
   "outputs": [
    {
     "name": "stdout",
     "output_type": "stream",
     "text": [
      "Fold 1: Accuracy = 0.8036\n",
      "Fold 2: Accuracy = 0.7982\n",
      "Fold 3: Accuracy = 0.8073\n",
      "Fold 4: Accuracy = 0.8216\n",
      "Fold 5: Accuracy = 0.8320\n",
      "Fold 6: Accuracy = 0.8151\n",
      "Fold 7: Accuracy = 0.8177\n",
      "Fold 8: Accuracy = 0.8047\n",
      "Fold 9: Accuracy = 0.8073\n",
      "Fold 10: Accuracy = 0.8112\n",
      "Mean Accuracy: 0.8119\n"
     ]
    }
   ],
   "source": [
    "\n",
    "from sklearn.model_selection import cross_val_score, KFold\n",
    "import numpy as np\n",
    "\n",
    "\n",
    "# Define the number of folds (k) and the cross-validation strategy\n",
    "k = 10  # You can change this value as needed\n",
    "kf = KFold(n_splits=k, shuffle=True, random_state=42)\n",
    "\n",
    "# Perform k-fold cross-validation and get the accuracy scores\n",
    "scores = cross_val_score(model, X_train_normalized, y_train.T.values[0], cv=kf, scoring='accuracy')\n",
    "\n",
    "# Print the accuracy scores for each fold and the mean score\n",
    "for fold, score in enumerate(scores, start=1):\n",
    "    print(f\"Fold {fold}: Accuracy = {score:.4f}\")\n",
    "\n",
    "mean_accuracy = np.mean(scores)\n",
    "print(f\"Mean Accuracy: {mean_accuracy:.4f}\")\n"
   ]
  },
  {
   "cell_type": "code",
   "execution_count": 39,
   "metadata": {},
   "outputs": [
    {
     "name": "stdout",
     "output_type": "stream",
     "text": [
      "Accuracy: 0.7287870900572618\n",
      "Precision: 0.708941605839416\n",
      "Recall: 0.7936670071501533\n",
      "F1-Score: 0.7489156626506025\n",
      "AUC-ROC: 0.7275129090952465\n",
      "AUC-PR (Average Precision): 0.6678171284019122\n",
      "Matthew's Correlation Coefficient (MCC): 0.4595371063314451\n",
      "Log Loss: 9.7755041206299\n",
      "Balanced Accuracy: 0.7275129090952465\n",
      "Confusion Matrix:\n",
      "[[623 319]\n",
      " [202 777]]\n",
      "Classification Report:\n",
      "              precision    recall  f1-score   support\n",
      "\n",
      "           0       0.76      0.66      0.71       942\n",
      "           1       0.71      0.79      0.75       979\n",
      "\n",
      "    accuracy                           0.73      1921\n",
      "   macro avg       0.73      0.73      0.73      1921\n",
      "weighted avg       0.73      0.73      0.73      1921\n",
      "\n"
     ]
    },
    {
     "data": {
      "image/png": "[encoded data removed]",
      "text/plain": [
       "<Figure size 800x600 with 2 Axes>"
      ]
     },
     "metadata": {},
     "output_type": "display_data"
    },
    {
     "data": {
      "image/png": "[encoded data removed]",
      "text/plain": [
       "<Figure size 800x600 with 1 Axes>"
      ]
     },
     "metadata": {},
     "output_type": "display_data"
    },
    {
     "data": {
      "image/png": "[encoded data removed]",
      "text/plain": [
       "<Figure size 800x600 with 1 Axes>"
      ]
     },
     "metadata": {},
     "output_type": "display_data"
    },
    {
     "name": "stderr",
     "output_type": "stream",
     "text": [
      "c:\\Users\\Ayush\\AppData\\Local\\Programs\\Python\\Python311\\Lib\\site-packages\\sklearn\\base.py:457: UserWarning: X has feature names, but RandomForestClassifier was fitted without feature names\n",
      "  warnings.warn(\n"
     ]
    }
   ],
   "source": [
    "evaluate_model(model,X_train_normalized, X_test_normalized, y_train.T.values[0], y_test)\n"
   ]
  },
  {
   "cell_type": "code",
   "execution_count": 44,
   "metadata": {},
   "outputs": [
    {
     "data": {
      "text/plain": [
       "array([1, 1, 0, ..., 1, 0, 0], dtype=int64)"
      ]
     },
     "execution_count": 44,
     "metadata": {},
     "output_type": "execute_result"
    }
   ],
   "source": [
    "y_pred = model.predict(X_test_normalized)\n",
    "y_pred\n"
   ]
  },
  {
   "cell_type": "markdown",
   "metadata": {},
   "source": [
    "GridSearching"
   ]
  },
  {
   "cell_type": "code",
   "execution_count": 33,
   "metadata": {},
   "outputs": [],
   "source": [
    "# from sklearn.model_selection import RandomizedSearchCV"
   ]
  },
  {
   "cell_type": "code",
   "execution_count": 34,
   "metadata": {},
   "outputs": [],
   "source": [
    "# from scipy.stats import randint\n",
    "\n",
    "# param_dist = {\n",
    "#     'n_estimators': randint(10, 200),  # Random integer between 10 and 200\n",
    "#     'max_depth': [None, 10, 20, 30],\n",
    "#     'min_samples_split': randint(2, 20),\n",
    "#     'min_samples_leaf': randint(1, 20)\n",
    "# }"
   ]
  },
  {
   "cell_type": "code",
   "execution_count": 35,
   "metadata": {},
   "outputs": [],
   "source": [
    "# random_search = RandomizedSearchCV(rf_classifier, param_distributions=param_dist, n_iter=50, cv=5, scoring='accuracy', random_state=42)\n"
   ]
  },
  {
   "cell_type": "code",
   "execution_count": 36,
   "metadata": {},
   "outputs": [],
   "source": [
    "# random_search.fit(X_train_normalized, y_train)\n",
    "# best_rf_classifier = random_search.best_estimator_\n",
    "# best_params = random_search.best_params_\n",
    "\n"
   ]
  },
  {
   "cell_type": "code",
   "execution_count": null,
   "metadata": {},
   "outputs": [],
   "source": []
  },
  {
   "cell_type": "code",
   "execution_count": null,
   "metadata": {},
   "outputs": [],
   "source": []
  },
  {
   "cell_type": "code",
   "execution_count": null,
   "metadata": {},
   "outputs": [],
   "source": []
  }
 ],
 "metadata": {
  "kernelspec": {
   "display_name": "Python 3",
   "language": "python",
   "name": "python3"
  },
  "language_info": {
   "codemirror_mode": {
    "name": "ipython",
    "version": 3
   },
   "file_extension": ".py",
   "mimetype": "text/x-python",
   "name": "python",
   "nbconvert_exporter": "python",
   "pygments_lexer": "ipython3",
   "version": "3.11.5"
  }
 },
 "nbformat": 4,
 "nbformat_minor": 2
}
